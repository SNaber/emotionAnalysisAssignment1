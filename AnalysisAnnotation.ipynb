{
 "cells": [
  {
   "cell_type": "code",
   "execution_count": 1,
   "id": "2773b57d",
   "metadata": {},
   "outputs": [],
   "source": [
    "import pandas as pd\n",
    "import sklearn.metrics as met\n",
    "from collections import Counter"
   ]
  },
  {
   "cell_type": "code",
   "execution_count": 2,
   "id": "d2c1e30f",
   "metadata": {},
   "outputs": [],
   "source": [
    "data = pd.read_csv(\"merged.csv\", sep=' ')"
   ]
  },
  {
   "cell_type": "code",
   "execution_count": 3,
   "id": "c662eb6f",
   "metadata": {},
   "outputs": [
    {
     "data": {
      "text/html": [
       "<div>\n",
       "<style scoped>\n",
       "    .dataframe tbody tr th:only-of-type {\n",
       "        vertical-align: middle;\n",
       "    }\n",
       "\n",
       "    .dataframe tbody tr th {\n",
       "        vertical-align: top;\n",
       "    }\n",
       "\n",
       "    .dataframe thead th {\n",
       "        text-align: right;\n",
       "    }\n",
       "</style>\n",
       "<table border=\"1\" class=\"dataframe\">\n",
       "  <thead>\n",
       "    <tr style=\"text-align: right;\">\n",
       "      <th></th>\n",
       "      <th>Britta</th>\n",
       "      <th>Sven</th>\n",
       "      <th>Natalia</th>\n",
       "    </tr>\n",
       "  </thead>\n",
       "  <tbody>\n",
       "    <tr>\n",
       "      <th>0</th>\n",
       "      <td>joy</td>\n",
       "      <td>joy</td>\n",
       "      <td>joy</td>\n",
       "    </tr>\n",
       "    <tr>\n",
       "      <th>1</th>\n",
       "      <td>shock</td>\n",
       "      <td>shock</td>\n",
       "      <td>shock</td>\n",
       "    </tr>\n",
       "    <tr>\n",
       "      <th>2</th>\n",
       "      <td>none</td>\n",
       "      <td>none</td>\n",
       "      <td>none</td>\n",
       "    </tr>\n",
       "    <tr>\n",
       "      <th>3</th>\n",
       "      <td>anger</td>\n",
       "      <td>anger</td>\n",
       "      <td>anger</td>\n",
       "    </tr>\n",
       "    <tr>\n",
       "      <th>4</th>\n",
       "      <td>none</td>\n",
       "      <td>none</td>\n",
       "      <td>none</td>\n",
       "    </tr>\n",
       "    <tr>\n",
       "      <th>...</th>\n",
       "      <td>...</td>\n",
       "      <td>...</td>\n",
       "      <td>...</td>\n",
       "    </tr>\n",
       "    <tr>\n",
       "      <th>94</th>\n",
       "      <td>fear</td>\n",
       "      <td>fear</td>\n",
       "      <td>anger</td>\n",
       "    </tr>\n",
       "    <tr>\n",
       "      <th>95</th>\n",
       "      <td>fear</td>\n",
       "      <td>shock</td>\n",
       "      <td>shock</td>\n",
       "    </tr>\n",
       "    <tr>\n",
       "      <th>96</th>\n",
       "      <td>none</td>\n",
       "      <td>anger</td>\n",
       "      <td>none</td>\n",
       "    </tr>\n",
       "    <tr>\n",
       "      <th>97</th>\n",
       "      <td>none</td>\n",
       "      <td>none</td>\n",
       "      <td>anger</td>\n",
       "    </tr>\n",
       "    <tr>\n",
       "      <th>98</th>\n",
       "      <td>shock</td>\n",
       "      <td>anger</td>\n",
       "      <td>anger</td>\n",
       "    </tr>\n",
       "  </tbody>\n",
       "</table>\n",
       "<p>99 rows × 3 columns</p>\n",
       "</div>"
      ],
      "text/plain": [
       "   Britta   Sven Natalia\n",
       "0     joy    joy     joy\n",
       "1   shock  shock   shock\n",
       "2    none   none    none\n",
       "3   anger  anger   anger\n",
       "4    none   none    none\n",
       "..    ...    ...     ...\n",
       "94   fear   fear   anger\n",
       "95   fear  shock   shock\n",
       "96   none  anger    none\n",
       "97   none   none   anger\n",
       "98  shock  anger   anger\n",
       "\n",
       "[99 rows x 3 columns]"
      ]
     },
     "execution_count": 3,
     "metadata": {},
     "output_type": "execute_result"
    }
   ],
   "source": [
    "data"
   ]
  },
  {
   "cell_type": "code",
   "execution_count": 5,
   "id": "86758b35",
   "metadata": {},
   "outputs": [
    {
     "data": {
      "text/plain": [
       "0.4794520547945206"
      ]
     },
     "execution_count": 5,
     "metadata": {},
     "output_type": "execute_result"
    }
   ],
   "source": [
    "kappa_britta_sven = met.cohen_kappa_score(data[\"Britta\"],data[\"Sven\"])\n",
    "kappa_britta_sven"
   ]
  },
  {
   "cell_type": "code",
   "execution_count": 6,
   "id": "b737e336",
   "metadata": {},
   "outputs": [
    {
     "data": {
      "text/plain": [
       "0.4413424413424414"
      ]
     },
     "execution_count": 6,
     "metadata": {},
     "output_type": "execute_result"
    }
   ],
   "source": [
    "kappa_britta_natalia = met.cohen_kappa_score(data[\"Britta\"],data[\"Natalia\"])\n",
    "kappa_britta_natalia"
   ]
  },
  {
   "cell_type": "code",
   "execution_count": 7,
   "id": "fbed676a",
   "metadata": {},
   "outputs": [
    {
     "data": {
      "text/plain": [
       "0.3822152886115445"
      ]
     },
     "execution_count": 7,
     "metadata": {},
     "output_type": "execute_result"
    }
   ],
   "source": [
    "kappa_natalia_sven = met.cohen_kappa_score(data[\"Natalia\"],data[\"Sven\"])\n",
    "kappa_natalia_sven"
   ]
  },
  {
   "cell_type": "code",
   "execution_count": 8,
   "id": "d95c0093",
   "metadata": {},
   "outputs": [
    {
     "data": {
      "text/plain": [
       "0.4343365949161688"
      ]
     },
     "execution_count": 8,
     "metadata": {},
     "output_type": "execute_result"
    }
   ],
   "source": [
    "average_kappa = (kappa_britta_sven + kappa_britta_natalia + kappa_natalia_sven)/3\n",
    "average_kappa"
   ]
  },
  {
   "cell_type": "code",
   "execution_count": 9,
   "id": "49f16b21",
   "metadata": {},
   "outputs": [],
   "source": [
    "def count_label(label, data_column):\n",
    "    count = 0\n",
    "    for item in data_column:\n",
    "        if item == label:\n",
    "            count+=1\n",
    "    return count"
   ]
  },
  {
   "cell_type": "code",
   "execution_count": 10,
   "id": "548298db",
   "metadata": {},
   "outputs": [
    {
     "data": {
      "text/plain": [
       "130"
      ]
     },
     "execution_count": 10,
     "metadata": {},
     "output_type": "execute_result"
    }
   ],
   "source": [
    "labeled_none = count_label(\"none\", data[\"Sven\"]) + count_label(\"none\", data[\"Natalia\"]) + count_label(\"none\", data[\"Britta\"])\n",
    "labeled_none"
   ]
  },
  {
   "cell_type": "code",
   "execution_count": 11,
   "id": "7303b2b6",
   "metadata": {},
   "outputs": [
    {
     "data": {
      "text/plain": [
       "44"
      ]
     },
     "execution_count": 11,
     "metadata": {},
     "output_type": "execute_result"
    }
   ],
   "source": [
    "labeled_joy = count_label(\"joy\", data[\"Sven\"]) + count_label(\"joy\", data[\"Natalia\"]) + count_label(\"joy\", data[\"Britta\"])\n",
    "labeled_joy"
   ]
  },
  {
   "cell_type": "code",
   "execution_count": 12,
   "id": "b241d3c9",
   "metadata": {},
   "outputs": [
    {
     "data": {
      "text/plain": [
       "72"
      ]
     },
     "execution_count": 12,
     "metadata": {},
     "output_type": "execute_result"
    }
   ],
   "source": [
    "labeled_anger = count_label(\"anger\", data[\"Sven\"]) + count_label(\"anger\", data[\"Natalia\"]) + count_label(\"anger\", data[\"Britta\"])\n",
    "labeled_anger"
   ]
  },
  {
   "cell_type": "code",
   "execution_count": 13,
   "id": "5f692c15",
   "metadata": {},
   "outputs": [
    {
     "data": {
      "text/plain": [
       "18"
      ]
     },
     "execution_count": 13,
     "metadata": {},
     "output_type": "execute_result"
    }
   ],
   "source": [
    "labeled_fear = count_label(\"fear\", data[\"Sven\"]) + count_label(\"fear\", data[\"Natalia\"]) + count_label(\"fear\", data[\"Britta\"])\n",
    "labeled_fear"
   ]
  },
  {
   "cell_type": "code",
   "execution_count": 14,
   "id": "de323dcd",
   "metadata": {},
   "outputs": [
    {
     "data": {
      "text/plain": [
       "33"
      ]
     },
     "execution_count": 14,
     "metadata": {},
     "output_type": "execute_result"
    }
   ],
   "source": [
    "labeled_shock = count_label(\"shock\", data[\"Sven\"]) + count_label(\"shock\", data[\"Natalia\"]) + count_label(\"shock\", data[\"Britta\"])\n",
    "labeled_shock"
   ]
  },
  {
   "cell_type": "code",
   "execution_count": 15,
   "id": "6cd0d23c",
   "metadata": {},
   "outputs": [
    {
     "data": {
      "text/plain": [
       "297"
      ]
     },
     "execution_count": 15,
     "metadata": {},
     "output_type": "execute_result"
    }
   ],
   "source": [
    "labels_total = labeled_none +labeled_joy +labeled_anger+ labeled_fear+ labeled_shock\n",
    "labels_total"
   ]
  },
  {
   "cell_type": "code",
   "execution_count": 16,
   "id": "dd83ba3b",
   "metadata": {},
   "outputs": [
    {
     "data": {
      "text/plain": [
       "(0.4377104377104377,\n",
       " 0.14814814814814814,\n",
       " 0.24242424242424243,\n",
       " 0.06060606060606061,\n",
       " 0.1111111111111111)"
      ]
     },
     "execution_count": 16,
     "metadata": {},
     "output_type": "execute_result"
    }
   ],
   "source": [
    "distribution_labels = (labeled_none/labels_total,labeled_joy/labels_total,labeled_anger/labels_total,labeled_fear/labels_total,labeled_shock/labels_total)\n",
    "distribution_labels"
   ]
  },
  {
   "cell_type": "code",
   "execution_count": 17,
   "id": "c3bedda8",
   "metadata": {},
   "outputs": [],
   "source": [
    "def count_labels_of(x):\n",
    "    return count_label(\"none\", data[x]), count_label(\"fear\", data[x]),count_label(\"anger\", data[x]),count_label(\"shock\", data[x]),count_label(\"joy\", data[x])"
   ]
  },
  {
   "cell_type": "code",
   "execution_count": 18,
   "id": "aee21c55",
   "metadata": {},
   "outputs": [
    {
     "data": {
      "text/plain": [
       "(36, 10, 24, 13, 16)"
      ]
     },
     "execution_count": 18,
     "metadata": {},
     "output_type": "execute_result"
    }
   ],
   "source": [
    "count_labels_of(\"Sven\")"
   ]
  },
  {
   "cell_type": "code",
   "execution_count": 19,
   "id": "b0011f79",
   "metadata": {},
   "outputs": [
    {
     "data": {
      "text/plain": [
       "(45, 8, 21, 10, 15)"
      ]
     },
     "execution_count": 19,
     "metadata": {},
     "output_type": "execute_result"
    }
   ],
   "source": [
    "count_labels_of(\"Britta\")"
   ]
  },
  {
   "cell_type": "code",
   "execution_count": 20,
   "id": "5b6ae974",
   "metadata": {},
   "outputs": [
    {
     "data": {
      "text/plain": [
       "(49, 0, 27, 10, 13)"
      ]
     },
     "execution_count": 20,
     "metadata": {},
     "output_type": "execute_result"
    }
   ],
   "source": [
    "count_labels_of(\"Natalia\")"
   ]
  },
  {
   "cell_type": "code",
   "execution_count": 21,
   "id": "4cf83f6d",
   "metadata": {},
   "outputs": [
    {
     "name": "stdout",
     "output_type": "stream",
     "text": [
      "frozenset({'joy'}): 5\n",
      "frozenset({'shock'}): 3\n",
      "frozenset({'none'}): 23\n",
      "frozenset({'anger'}): 13\n",
      "frozenset({'fear', 'none'}): 4\n",
      "frozenset({'shock', 'anger', 'fear'}): 4\n",
      "frozenset({'shock', 'anger'}): 6\n",
      "frozenset({'joy', 'none'}): 18\n",
      "frozenset({'shock', 'fear'}): 4\n",
      "frozenset({'anger', 'fear', 'none'}): 1\n",
      "frozenset({'anger', 'joy', 'none'}): 4\n",
      "frozenset({'shock', 'none'}): 3\n",
      "frozenset({'joy', 'fear', 'none'}): 1\n",
      "frozenset({'anger', 'none'}): 7\n",
      "frozenset({'anger', 'fear'}): 2\n",
      "frozenset({'anger', 'joy'}): 1\n"
     ]
    }
   ],
   "source": [
    "collect_sets = []\n",
    "for index, row in data.iterrows():\n",
    "    collect_sets.append(frozenset([row[0],row[1],row[2]]))\n",
    "occurance_map = Counter(collect_sets)\n",
    "for item in occurance_map:\n",
    "    print(str(item) + \": \" + str(occurance_map[item]))"
   ]
  },
  {
   "cell_type": "code",
   "execution_count": null,
   "id": "b7c8a5ea",
   "metadata": {},
   "outputs": [],
   "source": []
  }
 ],
 "metadata": {
  "kernelspec": {
   "display_name": "Python 3",
   "language": "python",
   "name": "python3"
  },
  "language_info": {
   "codemirror_mode": {
    "name": "ipython",
    "version": 3
   },
   "file_extension": ".py",
   "mimetype": "text/x-python",
   "name": "python",
   "nbconvert_exporter": "python",
   "pygments_lexer": "ipython3",
   "version": "3.8.8"
  }
 },
 "nbformat": 4,
 "nbformat_minor": 5
}

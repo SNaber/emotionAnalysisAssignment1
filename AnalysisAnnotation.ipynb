{
 "cells": [
  {
   "cell_type": "code",
   "execution_count": 1,
   "id": "e66f0554",
   "metadata": {},
   "outputs": [],
   "source": [
    "import pandas as pd\n",
    "import sklearn.metrics as met\n",
    "from collections import Counter"
   ]
  },
  {
   "cell_type": "code",
   "execution_count": 2,
   "id": "9e12ac67",
   "metadata": {},
   "outputs": [],
   "source": [
    "data = pd.read_csv(\"merged.csv\", sep=' ')"
   ]
  },
  {
   "cell_type": "code",
   "execution_count": 3,
   "id": "aeb26fc6",
   "metadata": {},
   "outputs": [
    {
     "data": {
      "text/html": [
       "<div>\n",
       "<style scoped>\n",
       "    .dataframe tbody tr th:only-of-type {\n",
       "        vertical-align: middle;\n",
       "    }\n",
       "\n",
       "    .dataframe tbody tr th {\n",
       "        vertical-align: top;\n",
       "    }\n",
       "\n",
       "    .dataframe thead th {\n",
       "        text-align: right;\n",
       "    }\n",
       "</style>\n",
       "<table border=\"1\" class=\"dataframe\">\n",
       "  <thead>\n",
       "    <tr style=\"text-align: right;\">\n",
       "      <th></th>\n",
       "      <th>Britta</th>\n",
       "      <th>Sven</th>\n",
       "      <th>Natalia</th>\n",
       "    </tr>\n",
       "  </thead>\n",
       "  <tbody>\n",
       "    <tr>\n",
       "      <th>0</th>\n",
       "      <td>joy</td>\n",
       "      <td>joy</td>\n",
       "      <td>joy</td>\n",
       "    </tr>\n",
       "    <tr>\n",
       "      <th>1</th>\n",
       "      <td>shock</td>\n",
       "      <td>shock</td>\n",
       "      <td>shock</td>\n",
       "    </tr>\n",
       "    <tr>\n",
       "      <th>2</th>\n",
       "      <td>none</td>\n",
       "      <td>none</td>\n",
       "      <td>none</td>\n",
       "    </tr>\n",
       "    <tr>\n",
       "      <th>3</th>\n",
       "      <td>anger</td>\n",
       "      <td>anger</td>\n",
       "      <td>anger</td>\n",
       "    </tr>\n",
       "    <tr>\n",
       "      <th>4</th>\n",
       "      <td>none</td>\n",
       "      <td>none</td>\n",
       "      <td>none</td>\n",
       "    </tr>\n",
       "    <tr>\n",
       "      <th>...</th>\n",
       "      <td>...</td>\n",
       "      <td>...</td>\n",
       "      <td>...</td>\n",
       "    </tr>\n",
       "    <tr>\n",
       "      <th>94</th>\n",
       "      <td>fear</td>\n",
       "      <td>fear</td>\n",
       "      <td>anger</td>\n",
       "    </tr>\n",
       "    <tr>\n",
       "      <th>95</th>\n",
       "      <td>fear</td>\n",
       "      <td>shock</td>\n",
       "      <td>shock</td>\n",
       "    </tr>\n",
       "    <tr>\n",
       "      <th>96</th>\n",
       "      <td>none</td>\n",
       "      <td>anger</td>\n",
       "      <td>none</td>\n",
       "    </tr>\n",
       "    <tr>\n",
       "      <th>97</th>\n",
       "      <td>none</td>\n",
       "      <td>none</td>\n",
       "      <td>anger</td>\n",
       "    </tr>\n",
       "    <tr>\n",
       "      <th>98</th>\n",
       "      <td>shock</td>\n",
       "      <td>anger</td>\n",
       "      <td>anger</td>\n",
       "    </tr>\n",
       "  </tbody>\n",
       "</table>\n",
       "<p>99 rows × 3 columns</p>\n",
       "</div>"
      ],
      "text/plain": [
       "   Britta   Sven Natalia\n",
       "0     joy    joy     joy\n",
       "1   shock  shock   shock\n",
       "2    none   none    none\n",
       "3   anger  anger   anger\n",
       "4    none   none    none\n",
       "..    ...    ...     ...\n",
       "94   fear   fear   anger\n",
       "95   fear  shock   shock\n",
       "96   none  anger    none\n",
       "97   none   none   anger\n",
       "98  shock  anger   anger\n",
       "\n",
       "[99 rows x 3 columns]"
      ]
     },
     "execution_count": 3,
     "metadata": {},
     "output_type": "execute_result"
    }
   ],
   "source": [
    "data"
   ]
  },
  {
   "cell_type": "code",
   "execution_count": 4,
   "id": "96df316c",
   "metadata": {},
   "outputs": [
    {
     "data": {
      "text/plain": [
       "0.4794520547945206"
      ]
     },
     "execution_count": 4,
     "metadata": {},
     "output_type": "execute_result"
    }
   ],
   "source": [
    "kappa_britta_sven = met.cohen_kappa_score(data[\"Britta\"],data[\"Sven\"])\n",
    "kappa_britta_sven"
   ]
  },
  {
   "cell_type": "code",
   "execution_count": 5,
   "id": "6f41d50d",
   "metadata": {},
   "outputs": [
    {
     "data": {
      "text/plain": [
       "0.4413424413424414"
      ]
     },
     "execution_count": 5,
     "metadata": {},
     "output_type": "execute_result"
    }
   ],
   "source": [
    "kappa_britta_natalia = met.cohen_kappa_score(data[\"Britta\"],data[\"Natalia\"])\n",
    "kappa_britta_natalia"
   ]
  },
  {
   "cell_type": "code",
   "execution_count": 6,
   "id": "5061d322",
   "metadata": {},
   "outputs": [
    {
     "data": {
      "text/plain": [
       "0.3822152886115445"
      ]
     },
     "execution_count": 6,
     "metadata": {},
     "output_type": "execute_result"
    }
   ],
   "source": [
    "kappa_natalia_sven = met.cohen_kappa_score(data[\"Natalia\"],data[\"Sven\"])\n",
    "kappa_natalia_sven"
   ]
  },
  {
   "cell_type": "code",
   "execution_count": 7,
   "id": "c0c67f8b",
   "metadata": {},
   "outputs": [
    {
     "data": {
      "text/plain": [
       "0.4343365949161688"
      ]
     },
     "execution_count": 7,
     "metadata": {},
     "output_type": "execute_result"
    }
   ],
   "source": [
    "average_kappa = (kappa_britta_sven + kappa_britta_natalia + kappa_natalia_sven)/3\n",
    "average_kappa"
   ]
  },
  {
   "cell_type": "code",
   "execution_count": 8,
   "id": "6e390cbb",
   "metadata": {},
   "outputs": [],
   "source": [
    "def count_label(label, data_column):\n",
    "    count = 0\n",
    "    for item in data_column:\n",
    "        if item == label:\n",
    "            count+=1\n",
    "    return count"
   ]
  },
  {
   "cell_type": "code",
   "execution_count": 9,
   "id": "0154ba74",
   "metadata": {},
   "outputs": [
    {
     "data": {
      "text/plain": [
       "130"
      ]
     },
     "execution_count": 9,
     "metadata": {},
     "output_type": "execute_result"
    }
   ],
   "source": [
    "labeled_none = count_label(\"none\", data[\"Sven\"]) + count_label(\"none\", data[\"Natalia\"]) + count_label(\"none\", data[\"Britta\"])\n",
    "labeled_none"
   ]
  },
  {
   "cell_type": "code",
   "execution_count": 10,
   "id": "fddc5a95",
   "metadata": {},
   "outputs": [
    {
     "data": {
      "text/plain": [
       "44"
      ]
     },
     "execution_count": 10,
     "metadata": {},
     "output_type": "execute_result"
    }
   ],
   "source": [
    "labeled_joy = count_label(\"joy\", data[\"Sven\"]) + count_label(\"joy\", data[\"Natalia\"]) + count_label(\"joy\", data[\"Britta\"])\n",
    "labeled_joy"
   ]
  },
  {
   "cell_type": "code",
   "execution_count": 11,
   "id": "75122330",
   "metadata": {},
   "outputs": [
    {
     "data": {
      "text/plain": [
       "72"
      ]
     },
     "execution_count": 11,
     "metadata": {},
     "output_type": "execute_result"
    }
   ],
   "source": [
    "labeled_anger = count_label(\"anger\", data[\"Sven\"]) + count_label(\"anger\", data[\"Natalia\"]) + count_label(\"anger\", data[\"Britta\"])\n",
    "labeled_anger"
   ]
  },
  {
   "cell_type": "code",
   "execution_count": 12,
   "id": "e7a0b467",
   "metadata": {},
   "outputs": [
    {
     "data": {
      "text/plain": [
       "18"
      ]
     },
     "execution_count": 12,
     "metadata": {},
     "output_type": "execute_result"
    }
   ],
   "source": [
    "labeled_fear = count_label(\"fear\", data[\"Sven\"]) + count_label(\"fear\", data[\"Natalia\"]) + count_label(\"fear\", data[\"Britta\"])\n",
    "labeled_fear"
   ]
  },
  {
   "cell_type": "code",
   "execution_count": 13,
   "id": "941a62ac",
   "metadata": {},
   "outputs": [
    {
     "data": {
      "text/plain": [
       "33"
      ]
     },
     "execution_count": 13,
     "metadata": {},
     "output_type": "execute_result"
    }
   ],
   "source": [
    "labeled_shock = count_label(\"shock\", data[\"Sven\"]) + count_label(\"shock\", data[\"Natalia\"]) + count_label(\"shock\", data[\"Britta\"])\n",
    "labeled_shock"
   ]
  },
  {
   "cell_type": "code",
   "execution_count": 14,
   "id": "71e68a69",
   "metadata": {},
   "outputs": [
    {
     "data": {
      "text/plain": [
       "297"
      ]
     },
     "execution_count": 14,
     "metadata": {},
     "output_type": "execute_result"
    }
   ],
   "source": [
    "labels_total = labeled_none +labeled_joy +labeled_anger+ labeled_fear+ labeled_shock\n",
    "labels_total"
   ]
  },
  {
   "cell_type": "code",
   "execution_count": 15,
   "id": "edf89622",
   "metadata": {},
   "outputs": [
    {
     "data": {
      "text/plain": [
       "(0.4377104377104377,\n",
       " 0.14814814814814814,\n",
       " 0.24242424242424243,\n",
       " 0.06060606060606061,\n",
       " 0.1111111111111111)"
      ]
     },
     "execution_count": 15,
     "metadata": {},
     "output_type": "execute_result"
    }
   ],
   "source": [
    "distribution_labels = (labeled_none/labels_total,labeled_joy/labels_total,labeled_anger/labels_total,labeled_fear/labels_total,labeled_shock/labels_total)\n",
    "distribution_labels"
   ]
  },
  {
   "cell_type": "code",
   "execution_count": 16,
   "id": "07521c5c",
   "metadata": {},
   "outputs": [],
   "source": [
    "def count_labels_of(x):\n",
    "    return count_label(\"none\", data[x]), count_label(\"fear\", data[x]),count_label(\"anger\", data[x]),count_label(\"shock\", data[x]),count_label(\"joy\", data[x])"
   ]
  },
  {
   "cell_type": "code",
   "execution_count": 17,
   "id": "cc59a098",
   "metadata": {},
   "outputs": [
    {
     "data": {
      "text/plain": [
       "(36, 10, 24, 13, 16)"
      ]
     },
     "execution_count": 17,
     "metadata": {},
     "output_type": "execute_result"
    }
   ],
   "source": [
    "count_labels_of(\"Sven\")"
   ]
  },
  {
   "cell_type": "code",
   "execution_count": 18,
   "id": "0e842bef",
   "metadata": {},
   "outputs": [
    {
     "data": {
      "text/plain": [
       "(45, 8, 21, 10, 15)"
      ]
     },
     "execution_count": 18,
     "metadata": {},
     "output_type": "execute_result"
    }
   ],
   "source": [
    "count_labels_of(\"Britta\")"
   ]
  },
  {
   "cell_type": "code",
   "execution_count": 19,
   "id": "7edd96be",
   "metadata": {},
   "outputs": [
    {
     "data": {
      "text/plain": [
       "(49, 0, 27, 10, 13)"
      ]
     },
     "execution_count": 19,
     "metadata": {},
     "output_type": "execute_result"
    }
   ],
   "source": [
    "count_labels_of(\"Natalia\")"
   ]
  },
  {
   "cell_type": "code",
   "execution_count": 20,
   "id": "8ab2ea2d",
   "metadata": {},
   "outputs": [
    {
     "name": "stdout",
     "output_type": "stream",
     "text": [
      "frozenset({'joy'}): 5\n",
      "frozenset({'shock'}): 3\n",
      "frozenset({'none'}): 23\n",
      "frozenset({'anger'}): 13\n",
      "frozenset({'none', 'fear'}): 4\n",
      "frozenset({'shock', 'anger', 'fear'}): 4\n",
      "frozenset({'shock', 'anger'}): 6\n",
      "frozenset({'none', 'joy'}): 18\n",
      "frozenset({'shock', 'fear'}): 4\n",
      "frozenset({'none', 'fear', 'anger'}): 1\n",
      "frozenset({'none', 'joy', 'anger'}): 4\n",
      "frozenset({'shock', 'none'}): 3\n",
      "frozenset({'none', 'fear', 'joy'}): 1\n",
      "frozenset({'anger', 'none'}): 7\n",
      "frozenset({'anger', 'fear'}): 2\n",
      "frozenset({'anger', 'joy'}): 1\n"
     ]
    }
   ],
   "source": [
    "collect_sets = []\n",
    "for index, row in data.iterrows():\n",
    "    collect_sets.append(frozenset([row[0],row[1],row[2]]))\n",
    "occurance_map = Counter(collect_sets)\n",
    "for item in occurance_map:\n",
    "    print(str(item) + \": \" + str(occurance_map[item]))"
   ]
  },
  {
   "cell_type": "code",
   "execution_count": 21,
   "id": "6bdd6579",
   "metadata": {
    "scrolled": true
   },
   "outputs": [
    {
     "data": {
      "image/png": "[encoded data removed]",
      "text/plain": [
       "<Figure size 432x288 with 1 Axes>"
      ]
     },
     "metadata": {
      "needs_background": "light"
     },
     "output_type": "display_data"
    }
   ],
   "source": [
    "import numpy as np\n",
    "from matplotlib import pyplot as plt\n",
    "\n",
    "anger = (21,27,24,72/3)\n",
    "fear = (8,0,10,18/3)\n",
    "shock = (10,10,13,33/3)\n",
    "joy =  (15,13,16,44/3)\n",
    "none = (45,49,36,130/3)\n",
    "index = [\"Britta\",\"Nataliia\",\"Sven\",\"Total\"]\n",
    "\n",
    "df = pd.DataFrame({'anger': anger,'fear': fear, 'shock': shock,'joy': joy,'none': none}, index=index)\n",
    "my_colors = ['r', 'y', 'green', 'b', 'black']\n",
    "bar = df.plot.bar(stacked=True, color=my_colors)\n",
    "bar.legend(bbox_to_anchor=(1,1))\n",
    "\n",
    "bar.set_ylabel(\"Occurence in %\")\n",
    "plt.xticks(range(4), index, rotation='horizontal')\n",
    "plt.savefig(\"figure.png\",bbox_inches='tight')"
   ]
  }
 ],
 "metadata": {
  "kernelspec": {
   "display_name": "Python 3",
   "language": "python",
   "name": "python3"
  },
  "language_info": {
   "codemirror_mode": {
    "name": "ipython",
    "version": 3
   },
   "file_extension": ".py",
   "mimetype": "text/x-python",
   "name": "python",
   "nbconvert_exporter": "python",
   "pygments_lexer": "ipython3",
   "version": "3.8.8"
  }
 },
 "nbformat": 4,
 "nbformat_minor": 5
}
